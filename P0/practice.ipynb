{
 "cells": [
  {
   "cell_type": "code",
   "execution_count": 39,
   "metadata": {
    "tags": [
     "outputPrepend",
     "outputPrepend",
     "outputPrepend",
     "outputPrepend",
     "outputPrepend"
    ]
   },
   "outputs": [
    {
     "output_type": "stream",
     "name": "stdout",
     "text": "97380 60551 spent the longest time, 55570 seconds, on the phone during September 2016.\n"
    }
   ],
   "source": [
    "\"\"\"\n",
    "Read file into texts and calls.\n",
    "It's ok if you don't understand how to read files\n",
    "\"\"\"\n",
    "import csv\n",
    "with open('texts.csv', 'r') as f:\n",
    "    reader = csv.reader(f)\n",
    "    texts = list(reader)\n",
    "\n",
    "with open('calls.csv', 'r') as f:\n",
    "    reader = csv.reader(f)\n",
    "    calls = list(reader)\n",
    "\n",
    "\"\"\"\n",
    "TASK 2: Which telephone number spent the longest time on the phone\n",
    "during the period? Don't forget that time spent answering a call is\n",
    "also time spent on the phone.\n",
    "Print a message:\n",
    "\"<telephone number> spent the longest time, <total time> seconds, on the phone during \n",
    "September 2016.\".\n",
    "\"\"\"\n",
    "\n",
    "duration = 0\n",
    "\n",
    "# Loop through all rows in calls\n",
    "d = {}\n",
    "all_diff_number = []\n",
    "for row in calls:\n",
    "    if row[0] not in all_diff_number:\n",
    "        d[row[0]] = [int(row[3]), 1]\n",
    "        all_diff_number.append(row[0])\n",
    "\n",
    "    else:\n",
    "        add = d[row[0]][0] + int(row[3])\n",
    "        count = d[row[0]][1] + 1\n",
    "        d[row[0]] = [add, count]\n",
    "        \n",
    "max_time = 0\n",
    "for key, value in d.items():\n",
    "\n",
    "    # check condition\n",
    "    if value[0] > max_time:\n",
    "        max_time = value[0]\n",
    "        telephone = key\n",
    "\n",
    "print(f\"{telephone} spent the longest time, {max_time} seconds, on the phone during September 2016.\")\n",
    "\n",
    "# 46232\n"
   ]
  },
  {
   "cell_type": "code",
   "execution_count": 97,
   "metadata": {},
   "outputs": [
    {
     "output_type": "stream",
     "name": "stdout",
     "text": "0\n"
    }
   ],
   "source": [
    "c =0\n",
    "for row in calls:\n",
    "    if row[1] == :\n",
    "        c += 1\n",
    "print(c)"
   ]
  },
  {
   "cell_type": "code",
   "execution_count": 67,
   "metadata": {},
   "outputs": [
    {
     "output_type": "execute_result",
     "data": {
      "text/plain": "480"
     },
     "metadata": {},
     "execution_count": 67
    }
   ],
   "source": [
    "len(d)"
   ]
  },
  {
   "cell_type": "code",
   "execution_count": null,
   "metadata": {},
   "outputs": [],
   "source": [
    "call_fields_name = [\"calling number\", \"receiving number\", \"timestamp\", \"duration\"]\n",
    "text_fields_name = [\"sending number\", \"receiving number\", \"timestamp\"]\n",
    "\n",
    "calls.append(call_fields_name)\n",
    "texts.append(text_fields_name)"
   ]
  },
  {
   "cell_type": "code",
   "execution_count": null,
   "metadata": {},
   "outputs": [],
   "source": []
  },
  {
   "cell_type": "code",
   "execution_count": null,
   "metadata": {},
   "outputs": [],
   "source": [
    "dict_calls = {a[-1]: (a[:-1]) for a in zip(*calls)}\n"
   ]
  },
  {
   "cell_type": "code",
   "execution_count": null,
   "metadata": {
    "tags": [
     "outputPrepend",
     "outputPrepend",
     "outputPrepend",
     "outputPrepend"
    ]
   },
   "outputs": [],
   "source": [
    "bangalore = []\n",
    "for i, v in enumerate(dict_calls[\"calling number\"]):\n",
    "    if \"(080)\" == v[:5]:\n",
    "        if v not in bangalore:\n",
    "            what = dict_calls[\"receiving number\"][i]\n",
    "            print(f\"At {i} is {v} called {what}\")\n",
    "            bangalore.append(v)\n",
    "\n",
    "    # print(v)"
   ]
  },
  {
   "cell_type": "code",
   "execution_count": 73,
   "metadata": {},
   "outputs": [],
   "source": [
    "favorite_languages = {\n",
    "    'jen': ['python', 'ruby'],\n",
    "    'sarah': ['c'],\n",
    "    'edward': ['ruby', 'go'],\n",
    "    'phil': ['python', 'haskell'],\n",
    "}\n",
    "\n"
   ]
  },
  {
   "cell_type": "code",
   "execution_count": 76,
   "metadata": {},
   "outputs": [],
   "source": [
    "favorite_languages[\"jen\"][1] = \"the\""
   ]
  },
  {
   "cell_type": "code",
   "execution_count": 83,
   "metadata": {},
   "outputs": [
    {
     "output_type": "execute_result",
     "data": {
      "text/plain": "['t', 'y']"
     },
     "metadata": {},
     "execution_count": 83
    }
   ],
   "source": [
    "favorite_languages[\"sarah\"] "
   ]
  },
  {
   "cell_type": "code",
   "execution_count": null,
   "metadata": {},
   "outputs": [],
   "source": []
  },
  {
   "cell_type": "code",
   "execution_count": null,
   "metadata": {},
   "outputs": [],
   "source": [
    "print(count_all)\n",
    "print(count_bangalore)\n",
    "\n",
    "print(len(called_by_bangalore))\n",
    "\n",
    "print(len(set(called_by_bangalore)))"
   ]
  },
  {
   "cell_type": "code",
   "execution_count": null,
   "metadata": {
    "tags": [
     "outputPrepend",
     "outputPrepend",
     "outputPrepend",
     "outputPrepend",
     "outputPrepend",
     "outputPrepend",
     "outputPrepend",
     "outputPrepend",
     "outputPrepend",
     "outputPrepend",
     "outputPrepend"
    ]
   },
   "outputs": [],
   "source": [
    "all_calls = {}\n",
    "\n",
    "for i, what in enumerate(call_fields_name):\n",
    "    data = []\n",
    "\n",
    "    for value in calls:\n",
    "        data.append(value[i])\n",
    "    all_calls[what] = data"
   ]
  },
  {
   "cell_type": "code",
   "execution_count": null,
   "metadata": {},
   "outputs": [],
   "source": [
    "wanted = {a[-1]: (a[:-1]) for a in zip(*calls)}\n"
   ]
  },
  {
   "cell_type": "code",
   "execution_count": null,
   "metadata": {},
   "outputs": [],
   "source": [
    "a = wanted[\"receiving number\"] + wanted[\"calling number\"]\n",
    "len(a)"
   ]
  },
  {
   "cell_type": "code",
   "execution_count": null,
   "metadata": {},
   "outputs": [],
   "source": [
    "calling_number = set([x[0] for x in calls])\n",
    "\n",
    "\n",
    "nor_telemarket_number = []\n",
    "for row in calls:\n",
    "    if row[1] not in nor_telemarket_number:\n",
    "        nor_telemarket_number.append(row[1])\n",
    "\n",
    "\n",
    "for row in texts:\n",
    "    if row[0] not in nor_telemarket_number:\n",
    "        nor_telemarket_number.append(row[0])\n",
    "    if row[1] not in nor_telemarket_number:\n",
    "        nor_telemarket_number.append(row[1])\n",
    "\n",
    "\n",
    "telemarket_number = []\n",
    "for what in calling_number:\n",
    "\n",
    "    if what in nor_telemarket_number:\n",
    "        continue\n",
    "    telemarket_number.append(what)\n",
    "\n",
    "print(\"These numbers could be telemarketers: \")\n",
    "for what in telemarket_number:\n",
    "    print(what)\n",
    "\n"
   ]
  },
  {
   "cell_type": "code",
   "execution_count": null,
   "metadata": {
    "tags": [
     "outputPrepend",
     "outputPrepend",
     "outputPrepend",
     "outputPrepend",
     "outputPrepend",
     "outputPrepend",
     "outputPrepend",
     "outputPrepend",
     "outputPrepend",
     "outputPrepend",
     "outputPrepend",
     "outputPrepend",
     "outputPrepend",
     "outputPrepend",
     "outputPrepend",
     "outputPrepend",
     "outputPrepend",
     "outputPrepend",
     "outputPrepend",
     "outputPrepend",
     "outputPrepend",
     "outputPrepend",
     "outputPrepend",
     "outputPrepend",
     "outputPrepend",
     "outputPrepend",
     "outputPrepend",
     "outputPrepend",
     "outputPrepend",
     "outputPrepend",
     "outputPrepend",
     "outputPrepend",
     "outputPrepend",
     "outputPrepend",
     "outputPrepend",
     "outputPrepend",
     "outputPrepend",
     "outputPrepend",
     "outputPrepend",
     "outputPrepend",
     "outputPrepend",
     "outputPrepend",
     "outputPrepend",
     "outputPrepend",
     "outputPrepend",
     "outputPrepend",
     "outputPrepend",
     "outputPrepend",
     "outputPrepend",
     "outputPrepend",
     "outputPrepend",
     "outputPrepend",
     "outputPrepend",
     "outputPrepend",
     "outputPrepend",
     "outputPrepend",
     "outputPrepend",
     "outputPrepend",
     "outputPrepend",
     "outputPrepend",
     "outputPrepend",
     "outputPrepend",
     "outputPrepend",
     "outputPrepend",
     "outputPrepend",
     "outputPrepend",
     "outputPrepend",
     "outputPrepend",
     "outputPrepend",
     "outputPrepend",
     "outputPrepend",
     "outputPrepend",
     "outputPrepend",
     "outputPrepend",
     "outputPrepend",
     "outputPrepend",
     "outputPrepend",
     "outputPrepend",
     "outputPrepend",
     "outputPrepend",
     "outputPrepend",
     "outputPrepend",
     "outputPrepend",
     "outputPrepend",
     "outputPrepend",
     "outputPrepend",
     "outputPrepend",
     "outputPrepend",
     "outputPrepend",
     "outputPrepend",
     "outputPrepend",
     "outputPrepend",
     "outputPrepend",
     "outputPrepend",
     "outputPrepend",
     "outputPrepend",
     "outputPrepend",
     "outputPrepend",
     "outputPrepend",
     "outputPrepend",
     "outputPrepend",
     "outputPrepend",
     "outputPrepend",
     "outputPrepend",
     "outputPrepend",
     "outputPrepend",
     "outputPrepend",
     "outputPrepend",
     "outputPrepend",
     "outputPrepend",
     "outputPrepend",
     "outputPrepend",
     "outputPrepend",
     "outputPrepend",
     "outputPrepend",
     "outputPrepend",
     "outputPrepend",
     "outputPrepend",
     "outputPrepend",
     "outputPrepend",
     "outputPrepend",
     "outputPrepend",
     "outputPrepend",
     "outputPrepend",
     "outputPrepend",
     "outputPrepend",
     "outputPrepend",
     "outputPrepend",
     "outputPrepend",
     "outputPrepend",
     "outputPrepend",
     "outputPrepend",
     "outputPrepend",
     "outputPrepend",
     "outputPrepend",
     "outputPrepend",
     "outputPrepend",
     "outputPrepend"
    ]
   },
   "outputs": [],
   "source": [
    "\n",
    "unique_call_number = set([x[0] for x in calls])\n",
    "print(len(unique_call_number))\n",
    "\n",
    "sending_number = set([x[0] for x in texts])\n",
    "receiving_text_number = set([x[1] for x in texts])\n",
    "\n",
    "print(len(unique_text_number))\n",
    "\n",
    "telemarket_number = unique_call_number - unique_text_number\n",
    "\n",
    "print(len(telemarket_number))\n"
   ]
  },
  {
   "cell_type": "code",
   "execution_count": null,
   "metadata": {},
   "outputs": [],
   "source": []
  }
 ],
 "metadata": {
  "language_info": {
   "codemirror_mode": {
    "name": "ipython",
    "version": 3
   },
   "file_extension": ".py",
   "mimetype": "text/x-python",
   "name": "python",
   "nbconvert_exporter": "python",
   "pygments_lexer": "ipython3",
   "version": "3.8.0-final"
  },
  "orig_nbformat": 2,
  "kernelspec": {
   "name": "python38032bita0cb2758c4cf4616b658b6b84a2a459a",
   "display_name": "Python 3.8.0 32-bit"
  }
 },
 "nbformat": 4,
 "nbformat_minor": 2
}