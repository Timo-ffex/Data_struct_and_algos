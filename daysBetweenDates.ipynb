{
 "cells": [
  {
   "cell_type": "markdown",
   "metadata": {},
   "source": [
    "# Days Between Dates\n",
    "\n",
    "This lesson will focus on one problem: calculating the number of days between two dates. \n",
    "\n",
    "This workspace is yours to use in whatever way is helpful. You might want to keep it open in a second tab as you go through the videos. \n",
    "\n"
   ]
  },
  {
   "cell_type": "markdown",
   "metadata": {},
   "source": [
    "## Problem statement\n",
    "Given your birthday and the current date, `calculate your age in days`. Compensate for `leap days`. Assume that the birthday and current date are `correct dates (and no time travel)`. Simply put, if you were born 1 jan 2012 and todays date is 2 jan 2012 you are 1 day old"
   ]
  },
  {
   "cell_type": "code",
   "execution_count": 1,
   "metadata": {},
   "outputs": [
    {
     "output_type": "stream",
     "name": "stdout",
     "text": "Congratulations! Your daysBetweenDates\nfunction is working correctly!\n"
    }
   ],
   "source": [
    "def leap_year(year):\n",
    "    if year % 4 == 0 or year & 400 == 0:\n",
    "        if year % 100 == 0 and year % 400 != 0:\n",
    "            return False       \n",
    "        else:\n",
    "            return True\n",
    "    return False\n",
    "\n",
    "\n",
    "def dateIsBefore(year1, month1, day1, year2, month2, day2):\n",
    "    \"\"\"\n",
    "    Return True if year1/month1/day1 is before\n",
    "    year2/month2/day2. Otherwise false\n",
    "    \"\"\"\n",
    "\n",
    "    if year1 < year2:\n",
    "        return True\n",
    "    if year1 == year2:\n",
    "        if month1 < month2:\n",
    "            return True\n",
    "        if month1 == month2 and day1 < day2:\n",
    "            return True\n",
    "\n",
    "    return False\n",
    "\n",
    "\n",
    "\n",
    "\n",
    "def next_day(year, month, day ):\n",
    "\n",
    "    days = [31, 28, 31, 30, 31, 30, 31, 31, 30, 31, 30, 31]\n",
    "    \n",
    "    if leap_year(year):\n",
    "        days[1] = 29\n",
    "\n",
    "    if month == 12 and day == 31:\n",
    "        return year + 1, 1, 1\n",
    "\n",
    "    elif day == days[month-1]:\n",
    "        return year, month + 1, 1\n",
    "\n",
    "    else:\n",
    "        return year, month, day + 1\n",
    "        \n",
    "\n",
    "\n",
    "def daysBetweenDates(year1, month1, day1, year2, month2, day2):\n",
    "    \"\"\"\n",
    "    Calculates the number of days between two dates.\n",
    "    \"\"\"\n",
    "    days_count = 0\n",
    "\n",
    "    try:\n",
    "        assert not dateIsBefore(year2, month2, day2, year1, month1, day1)\n",
    "    \n",
    "\n",
    "        while dateIsBefore(year1, month1, day1, year2, month2, day2):\n",
    "            year1, month1, day1 = next_day(year1, month1, day1)\n",
    "            days_count += 1\n",
    "                # print(f\"In else: {count}\")\n",
    "    except:\n",
    "        days_count = \"ERROR\"\n",
    "\n",
    "    return days_count\n",
    "\n",
    "\n",
    "def testDaysBetweenDates():\n",
    "    \n",
    "    # test incorrect date\n",
    "    assert(daysBetweenDates(2017, 12, 30, 2017, 11, 30) == \"ERROR\")\n",
    "    # test adjacent days\n",
    "    assert(daysBetweenDates(2017, 12, 30, 2017, 12, 31) == 1)\n",
    "    # test new year\n",
    "    assert(daysBetweenDates(2017, 12, 30, 2018, 1,  1)  == 2)\n",
    "    # test full year difference\n",
    "    assert(daysBetweenDates(2012, 6, 29, 2013, 6, 29)  == 365)\n",
    "    \n",
    "    assert(daysBetweenDates(2019, 6, 29, 2020, 6, 29)  == 366)\n",
    "    \n",
    "    print(\"Congratulations! Your daysBetweenDates\")\n",
    "    print(\"function is working correctly!\")\n",
    "\n",
    "    \n",
    "testDaysBetweenDates()"
   ]
  },
  {
   "cell_type": "code",
   "execution_count": null,
   "metadata": {},
   "outputs": [],
   "source": []
  }
 ],
 "metadata": {
  "kernelspec": {
   "display_name": "Python 3",
   "language": "python",
   "name": "python3"
  },
  "language_info": {
   "codemirror_mode": {
    "name": "ipython",
    "version": 3
   },
   "file_extension": ".py",
   "mimetype": "text/x-python",
   "name": "python",
   "nbconvert_exporter": "python",
   "pygments_lexer": "ipython3",
   "version": "3.8.0-final"
  }
 },
 "nbformat": 4,
 "nbformat_minor": 2
}